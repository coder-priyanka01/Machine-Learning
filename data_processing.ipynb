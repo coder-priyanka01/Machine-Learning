{
 "cells": [
  {
   "cell_type": "code",
   "execution_count": 18,
   "id": "efc0acaa-f868-449c-a39e-c6a34610e514",
   "metadata": {},
   "outputs": [],
   "source": [
    "from sklearn.preprocessing import LabelEncoder\n",
    "import pandas as pd"
   ]
  },
  {
   "cell_type": "code",
   "execution_count": 19,
   "id": "a98d048d-af34-46f8-b4d5-186b1d41bb43",
   "metadata": {},
   "outputs": [],
   "source": [
    "df = pd.read_csv(\"sample_data.csv\")\n",
    "\n",
    "df_label = df.copy()"
   ]
  },
  {
   "cell_type": "code",
   "execution_count": 27,
   "id": "193a98c6-4d56-460e-8015-65eeb633c6e5",
   "metadata": {},
   "outputs": [
    {
     "name": "stdout",
     "output_type": "stream",
     "text": [
      "\n",
      "Label Encoded Data\n",
      "      Name  Gender  Gender_Encoded Passed  Passed_Encoded\n",
      "0     Aman    male               1    yes               1\n",
      "1    Priya  female               0    yes               1\n",
      "2    Rahul    male               1     no               0\n",
      "3   Anjali  female               0    yes               1\n",
      "4     Ravi    male               1    yes               1\n",
      "5    Meera  female               0     no               0\n",
      "6    Arjun    male               1    yes               1\n",
      "7     Neha  female               0    yes               1\n",
      "8    Imran    male               1     no               0\n",
      "9    Sneha  female               0    yes               1\n",
      "10     Raj    male               1    yes               1\n",
      "11   Divya  female               0     no               0\n",
      "12   Kabir    male               1    yes               1\n",
      "13  Simran  female               0    yes               1\n",
      "14   Karan    male               1     no               0\n",
      "15   Pooja  female               0    yes               1\n",
      "16  Rakesh    male               1    yes               1\n",
      "17    Isha  female               0     no               0\n",
      "18   Rohit    male               1    yes               1\n",
      "19   Deepa  female               0    yes               1\n"
     ]
    }
   ],
   "source": [
    "le = LabelEncoder()\n",
    "df_label['Gender_Encoded'] = le.fit_transform(df_label['Gender'])\n",
    "df_label['Passed_Encoded'] = le.fit_transform(df_label['Passed'])\n",
    "\n",
    "print('\\nLabel Encoded Data')\n",
    "print(df_label[['Name', 'Gender', 'Gender_Encoded', 'Passed', 'Passed_Encoded']])"
   ]
  },
  {
   "cell_type": "code",
   "execution_count": 28,
   "id": "0dbcd2d2-bad1-488f-a364-80e436d1bf78",
   "metadata": {},
   "outputs": [
    {
     "name": "stdout",
     "output_type": "stream",
     "text": [
      "\n",
      "One-Hot Encoded Data (City)\n",
      "      Name  Gender Passed  Gender_Encoded  Passed_Encoded  City_bangalore  \\\n",
      "0     Aman    male    yes               1               1           False   \n",
      "1    Priya  female    yes               0               1           False   \n",
      "2    Rahul    male     no               1               0            True   \n",
      "3   Anjali  female    yes               0               1           False   \n",
      "4     Ravi    male    yes               1               1           False   \n",
      "5    Meera  female     no               0               0           False   \n",
      "6    Arjun    male    yes               1               1            True   \n",
      "7     Neha  female    yes               0               1           False   \n",
      "8    Imran    male     no               1               0           False   \n",
      "9    Sneha  female    yes               0               1           False   \n",
      "10     Raj    male    yes               1               1           False   \n",
      "11   Divya  female     no               0               0           False   \n",
      "12   Kabir    male    yes               1               1           False   \n",
      "13  Simran  female    yes               0               1            True   \n",
      "14   Karan    male     no               1               0           False   \n",
      "15   Pooja  female    yes               0               1           False   \n",
      "16  Rakesh    male    yes               1               1           False   \n",
      "17    Isha  female     no               0               0           False   \n",
      "18   Rohit    male    yes               1               1           False   \n",
      "19   Deepa  female    yes               0               1            True   \n",
      "\n",
      "    City_chennai  City_delhi  City_mumbai  \n",
      "0          False        True        False  \n",
      "1          False       False         True  \n",
      "2          False       False        False  \n",
      "3          False       False         True  \n",
      "4          False        True        False  \n",
      "5           True       False        False  \n",
      "6          False       False        False  \n",
      "7          False        True        False  \n",
      "8           True       False        False  \n",
      "9          False       False         True  \n",
      "10          True       False        False  \n",
      "11         False        True        False  \n",
      "12         False       False         True  \n",
      "13         False       False        False  \n",
      "14         False        True        False  \n",
      "15         False       False         True  \n",
      "16          True       False        False  \n",
      "17         False        True        False  \n",
      "18         False        True        False  \n",
      "19         False       False        False  \n"
     ]
    }
   ],
   "source": [
    "df_encoded = pd.get_dummies(df_label, columns = ['City'])\n",
    "print('\\nOne-Hot Encoded Data (City)')\n",
    "print(df_encoded)"
   ]
  },
  {
   "cell_type": "code",
   "execution_count": null,
   "id": "b4f443da-0da2-4b6e-a97e-8c650b46ad97",
   "metadata": {},
   "outputs": [],
   "source": []
  }
 ],
 "metadata": {
  "kernelspec": {
   "display_name": "Python 3 (ipykernel)",
   "language": "python",
   "name": "python3"
  },
  "language_info": {
   "codemirror_mode": {
    "name": "ipython",
    "version": 3
   },
   "file_extension": ".py",
   "mimetype": "text/x-python",
   "name": "python",
   "nbconvert_exporter": "python",
   "pygments_lexer": "ipython3",
   "version": "3.12.7"
  }
 },
 "nbformat": 4,
 "nbformat_minor": 5
}
